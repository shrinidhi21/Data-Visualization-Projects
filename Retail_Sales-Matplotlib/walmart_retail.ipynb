{
 "cells": [
  {
   "cell_type": "markdown",
   "metadata": {},
   "source": [
    "# Import libraries"
   ]
  },
  {
   "cell_type": "code",
   "execution_count": 46,
   "metadata": {},
   "outputs": [],
   "source": [
    "import pandas as pd\n",
    "import numpy as np\n",
    "\n",
    "import matplotlib.pyplot as plt\n",
    "%matplotlib inline"
   ]
  },
  {
   "cell_type": "markdown",
   "metadata": {},
   "source": [
    "Read the dataset, investigate dimension and null values"
   ]
  },
  {
   "cell_type": "code",
   "execution_count": 230,
   "metadata": {},
   "outputs": [
    {
     "name": "stdout",
     "output_type": "stream",
     "text": [
      "(8523, 12)\n",
      "Item_Identifier                 0\n",
      "Item_Weight                  1463\n",
      "Item_Fat_Content                0\n",
      "Item_Visibility                 0\n",
      "Item_Type                       0\n",
      "Item_MRP                        0\n",
      "Outlet_Identifier               0\n",
      "Outlet_Establishment_Year       0\n",
      "Outlet_Size                  2410\n",
      "Outlet_Location_Type            0\n",
      "Outlet_Type                     0\n",
      "Item_Outlet_Sales               0\n",
      "dtype: int64\n"
     ]
    }
   ],
   "source": [
    "df = pd.read_csv(\"C:/Users/conne/Python Scripts/Dataset/Data_Visualization_with_Matplotlib/bigmart_data.csv\")\n",
    "print(df.shape)\n",
    "print(df.isna().sum())"
   ]
  },
  {
   "cell_type": "markdown",
   "metadata": {},
   "source": [
    "The null values in Item_Weight and Outlet_Size cannot be imputed, better to drop the NA values"
   ]
  },
  {
   "cell_type": "code",
   "execution_count": 11,
   "metadata": {},
   "outputs": [
    {
     "name": "stdout",
     "output_type": "stream",
     "text": [
      "Item_Identifier              0\n",
      "Item_Weight                  0\n",
      "Item_Fat_Content             0\n",
      "Item_Visibility              0\n",
      "Item_Type                    0\n",
      "Item_MRP                     0\n",
      "Outlet_Identifier            0\n",
      "Outlet_Establishment_Year    0\n",
      "Outlet_Size                  0\n",
      "Outlet_Location_Type         0\n",
      "Outlet_Type                  0\n",
      "Item_Outlet_Sales            0\n",
      "dtype: int64\n"
     ]
    }
   ],
   "source": [
    "#df.dropna(inplace= True)\n",
    "#print(df.isna().sum())"
   ]
  },
  {
   "cell_type": "code",
   "execution_count": 31,
   "metadata": {},
   "outputs": [
    {
     "data": {
      "text/html": [
       "<div>\n",
       "<style scoped>\n",
       "    .dataframe tbody tr th:only-of-type {\n",
       "        vertical-align: middle;\n",
       "    }\n",
       "\n",
       "    .dataframe tbody tr th {\n",
       "        vertical-align: top;\n",
       "    }\n",
       "\n",
       "    .dataframe thead th {\n",
       "        text-align: right;\n",
       "    }\n",
       "</style>\n",
       "<table border=\"1\" class=\"dataframe\">\n",
       "  <thead>\n",
       "    <tr style=\"text-align: right;\">\n",
       "      <th></th>\n",
       "      <th>Item_Identifier</th>\n",
       "      <th>Item_Weight</th>\n",
       "      <th>Item_Fat_Content</th>\n",
       "      <th>Item_Visibility</th>\n",
       "      <th>Item_Type</th>\n",
       "      <th>Item_MRP</th>\n",
       "      <th>Outlet_Identifier</th>\n",
       "      <th>Outlet_Establishment_Year</th>\n",
       "      <th>Outlet_Size</th>\n",
       "      <th>Outlet_Location_Type</th>\n",
       "      <th>Outlet_Type</th>\n",
       "      <th>Item_Outlet_Sales</th>\n",
       "    </tr>\n",
       "  </thead>\n",
       "  <tbody>\n",
       "    <tr>\n",
       "      <th>0</th>\n",
       "      <td>FDA15</td>\n",
       "      <td>9.30</td>\n",
       "      <td>Low Fat</td>\n",
       "      <td>0.016047</td>\n",
       "      <td>Dairy</td>\n",
       "      <td>249.8092</td>\n",
       "      <td>OUT049</td>\n",
       "      <td>1999</td>\n",
       "      <td>Medium</td>\n",
       "      <td>Tier 1</td>\n",
       "      <td>Supermarket Type1</td>\n",
       "      <td>3735.1380</td>\n",
       "    </tr>\n",
       "    <tr>\n",
       "      <th>1</th>\n",
       "      <td>DRC01</td>\n",
       "      <td>5.92</td>\n",
       "      <td>Regular</td>\n",
       "      <td>0.019278</td>\n",
       "      <td>Soft Drinks</td>\n",
       "      <td>48.2692</td>\n",
       "      <td>OUT018</td>\n",
       "      <td>2009</td>\n",
       "      <td>Medium</td>\n",
       "      <td>Tier 3</td>\n",
       "      <td>Supermarket Type2</td>\n",
       "      <td>443.4228</td>\n",
       "    </tr>\n",
       "    <tr>\n",
       "      <th>2</th>\n",
       "      <td>FDN15</td>\n",
       "      <td>17.50</td>\n",
       "      <td>Low Fat</td>\n",
       "      <td>0.016760</td>\n",
       "      <td>Meat</td>\n",
       "      <td>141.6180</td>\n",
       "      <td>OUT049</td>\n",
       "      <td>1999</td>\n",
       "      <td>Medium</td>\n",
       "      <td>Tier 1</td>\n",
       "      <td>Supermarket Type1</td>\n",
       "      <td>2097.2700</td>\n",
       "    </tr>\n",
       "    <tr>\n",
       "      <th>3</th>\n",
       "      <td>FDX07</td>\n",
       "      <td>19.20</td>\n",
       "      <td>Regular</td>\n",
       "      <td>0.000000</td>\n",
       "      <td>Fruits and Vegetables</td>\n",
       "      <td>182.0950</td>\n",
       "      <td>OUT010</td>\n",
       "      <td>1998</td>\n",
       "      <td>NaN</td>\n",
       "      <td>Tier 3</td>\n",
       "      <td>Grocery Store</td>\n",
       "      <td>732.3800</td>\n",
       "    </tr>\n",
       "    <tr>\n",
       "      <th>4</th>\n",
       "      <td>NCD19</td>\n",
       "      <td>8.93</td>\n",
       "      <td>Low Fat</td>\n",
       "      <td>0.000000</td>\n",
       "      <td>Household</td>\n",
       "      <td>53.8614</td>\n",
       "      <td>OUT013</td>\n",
       "      <td>1987</td>\n",
       "      <td>High</td>\n",
       "      <td>Tier 3</td>\n",
       "      <td>Supermarket Type1</td>\n",
       "      <td>994.7052</td>\n",
       "    </tr>\n",
       "  </tbody>\n",
       "</table>\n",
       "</div>"
      ],
      "text/plain": [
       "  Item_Identifier  Item_Weight Item_Fat_Content  Item_Visibility  \\\n",
       "0           FDA15         9.30          Low Fat         0.016047   \n",
       "1           DRC01         5.92          Regular         0.019278   \n",
       "2           FDN15        17.50          Low Fat         0.016760   \n",
       "3           FDX07        19.20          Regular         0.000000   \n",
       "4           NCD19         8.93          Low Fat         0.000000   \n",
       "\n",
       "               Item_Type  Item_MRP Outlet_Identifier  \\\n",
       "0                  Dairy  249.8092            OUT049   \n",
       "1            Soft Drinks   48.2692            OUT018   \n",
       "2                   Meat  141.6180            OUT049   \n",
       "3  Fruits and Vegetables  182.0950            OUT010   \n",
       "4              Household   53.8614            OUT013   \n",
       "\n",
       "   Outlet_Establishment_Year Outlet_Size Outlet_Location_Type  \\\n",
       "0                       1999      Medium               Tier 1   \n",
       "1                       2009      Medium               Tier 3   \n",
       "2                       1999      Medium               Tier 1   \n",
       "3                       1998         NaN               Tier 3   \n",
       "4                       1987        High               Tier 3   \n",
       "\n",
       "         Outlet_Type  Item_Outlet_Sales  \n",
       "0  Supermarket Type1          3735.1380  \n",
       "1  Supermarket Type2           443.4228  \n",
       "2  Supermarket Type1          2097.2700  \n",
       "3      Grocery Store           732.3800  \n",
       "4  Supermarket Type1           994.7052  "
      ]
     },
     "execution_count": 31,
     "metadata": {},
     "output_type": "execute_result"
    }
   ],
   "source": [
    "df.head()"
   ]
  },
  {
   "cell_type": "markdown",
   "metadata": {},
   "source": [
    "# What is the average sales of the outlets from 1987 to 2009?"
   ]
  },
  {
   "cell_type": "code",
   "execution_count": 45,
   "metadata": {},
   "outputs": [
    {
     "data": {
      "text/html": [
       "<div>\n",
       "<style scoped>\n",
       "    .dataframe tbody tr th:only-of-type {\n",
       "        vertical-align: middle;\n",
       "    }\n",
       "\n",
       "    .dataframe tbody tr th {\n",
       "        vertical-align: top;\n",
       "    }\n",
       "\n",
       "    .dataframe thead th {\n",
       "        text-align: right;\n",
       "    }\n",
       "</style>\n",
       "<table border=\"1\" class=\"dataframe\">\n",
       "  <thead>\n",
       "    <tr style=\"text-align: right;\">\n",
       "      <th></th>\n",
       "      <th>Item_Outlet_Sales</th>\n",
       "    </tr>\n",
       "    <tr>\n",
       "      <th>Outlet_Establishment_Year</th>\n",
       "      <th></th>\n",
       "    </tr>\n",
       "  </thead>\n",
       "  <tbody>\n",
       "    <tr>\n",
       "      <th>1985</th>\n",
       "      <td>2483.677474</td>\n",
       "    </tr>\n",
       "    <tr>\n",
       "      <th>1987</th>\n",
       "      <td>2298.995256</td>\n",
       "    </tr>\n",
       "    <tr>\n",
       "      <th>1997</th>\n",
       "      <td>2277.844267</td>\n",
       "    </tr>\n",
       "    <tr>\n",
       "      <th>1998</th>\n",
       "      <td>339.351662</td>\n",
       "    </tr>\n",
       "    <tr>\n",
       "      <th>1999</th>\n",
       "      <td>2348.354635</td>\n",
       "    </tr>\n",
       "    <tr>\n",
       "      <th>2002</th>\n",
       "      <td>2192.384798</td>\n",
       "    </tr>\n",
       "    <tr>\n",
       "      <th>2004</th>\n",
       "      <td>2438.841866</td>\n",
       "    </tr>\n",
       "    <tr>\n",
       "      <th>2007</th>\n",
       "      <td>2340.675263</td>\n",
       "    </tr>\n",
       "    <tr>\n",
       "      <th>2009</th>\n",
       "      <td>1995.498739</td>\n",
       "    </tr>\n",
       "  </tbody>\n",
       "</table>\n",
       "</div>"
      ],
      "text/plain": [
       "                           Item_Outlet_Sales\n",
       "Outlet_Establishment_Year                   \n",
       "1985                             2483.677474\n",
       "1987                             2298.995256\n",
       "1997                             2277.844267\n",
       "1998                              339.351662\n",
       "1999                             2348.354635\n",
       "2002                             2192.384798\n",
       "2004                             2438.841866\n",
       "2007                             2340.675263\n",
       "2009                             1995.498739"
      ]
     },
     "execution_count": 45,
     "metadata": {},
     "output_type": "execute_result"
    }
   ],
   "source": [
    "sales_by_yr_df = pd.DataFrame(df.groupby('Outlet_Establishment_Year')['Item_Outlet_Sales'].mean())\n",
    "\n",
    "sales_by_yr_df"
   ]
  },
  {
   "cell_type": "code",
   "execution_count": 77,
   "metadata": {},
   "outputs": [
    {
     "data": {
      "image/png": "[encoded data removed]",
      "text/plain": [
       "<Figure size 720x360 with 1 Axes>"
      ]
     },
     "metadata": {
      "needs_background": "light"
     },
     "output_type": "display_data"
    }
   ],
   "source": [
    "x_values = list(sales_by_yr_df.index)\n",
    "y_values = list(sales_by_yr_df.Item_Outlet_Sales)\n",
    "\n",
    "\n",
    "fig = plt.figure(figsize=(10,5))\n",
    "\n",
    "plt.plot(x_values, y_values,'--')\n",
    "plt.xticks(x_values,x_values,rotation='vertical')\n",
    "plt.xlabel(\"Year\")\n",
    "plt.ylabel(\"Average sales\")\n",
    "plt.title(\"Average Sales of the outlets over the years\")\n",
    "plt.show()\n"
   ]
  },
  {
   "cell_type": "markdown",
   "metadata": {},
   "source": [
    "Observation:\n",
    "- 1998 has been the year with the least sales made. \n",
    "- The sales information for most of the years are missing in the dataset. It is interesting to notice that after the dip in the year 1998, the sales average has been steady up until 2007."
   ]
  },
  {
   "cell_type": "markdown",
   "metadata": {},
   "source": [
    "# How does the number of outlet impact the sales every year?"
   ]
  },
  {
   "cell_type": "code",
   "execution_count": 78,
   "metadata": {},
   "outputs": [
    {
     "data": {
      "text/html": [
       "<div>\n",
       "<style scoped>\n",
       "    .dataframe tbody tr th:only-of-type {\n",
       "        vertical-align: middle;\n",
       "    }\n",
       "\n",
       "    .dataframe tbody tr th {\n",
       "        vertical-align: top;\n",
       "    }\n",
       "\n",
       "    .dataframe thead th {\n",
       "        text-align: right;\n",
       "    }\n",
       "</style>\n",
       "<table border=\"1\" class=\"dataframe\">\n",
       "  <thead>\n",
       "    <tr style=\"text-align: right;\">\n",
       "      <th></th>\n",
       "      <th>Outlet_Identifier</th>\n",
       "    </tr>\n",
       "    <tr>\n",
       "      <th>Outlet_Establishment_Year</th>\n",
       "      <th></th>\n",
       "    </tr>\n",
       "  </thead>\n",
       "  <tbody>\n",
       "    <tr>\n",
       "      <th>1985</th>\n",
       "      <td>1463</td>\n",
       "    </tr>\n",
       "    <tr>\n",
       "      <th>1987</th>\n",
       "      <td>932</td>\n",
       "    </tr>\n",
       "    <tr>\n",
       "      <th>1997</th>\n",
       "      <td>930</td>\n",
       "    </tr>\n",
       "    <tr>\n",
       "      <th>1998</th>\n",
       "      <td>555</td>\n",
       "    </tr>\n",
       "    <tr>\n",
       "      <th>1999</th>\n",
       "      <td>930</td>\n",
       "    </tr>\n",
       "    <tr>\n",
       "      <th>2002</th>\n",
       "      <td>929</td>\n",
       "    </tr>\n",
       "    <tr>\n",
       "      <th>2004</th>\n",
       "      <td>930</td>\n",
       "    </tr>\n",
       "    <tr>\n",
       "      <th>2007</th>\n",
       "      <td>926</td>\n",
       "    </tr>\n",
       "    <tr>\n",
       "      <th>2009</th>\n",
       "      <td>928</td>\n",
       "    </tr>\n",
       "  </tbody>\n",
       "</table>\n",
       "</div>"
      ],
      "text/plain": [
       "                           Outlet_Identifier\n",
       "Outlet_Establishment_Year                   \n",
       "1985                                    1463\n",
       "1987                                     932\n",
       "1997                                     930\n",
       "1998                                     555\n",
       "1999                                     930\n",
       "2002                                     929\n",
       "2004                                     930\n",
       "2007                                     926\n",
       "2009                                     928"
      ]
     },
     "execution_count": 78,
     "metadata": {},
     "output_type": "execute_result"
    }
   ],
   "source": [
    "outlet_yr_df = pd.DataFrame(df.groupby('Outlet_Establishment_Year')['Outlet_Identifier'].count())\n",
    "\n",
    "outlet_yr_df"
   ]
  },
  {
   "cell_type": "code",
   "execution_count": 126,
   "metadata": {},
   "outputs": [
    {
     "data": {
      "image/png": "[encoded data removed]",
      "text/plain": [
       "<Figure size 720x360 with 1 Axes>"
      ]
     },
     "metadata": {
      "needs_background": "light"
     },
     "output_type": "display_data"
    }
   ],
   "source": [
    "x_values = list(outlet_yr_df.index)\n",
    "y_values = list(outlet_yr_df.Outlet_Identifier)\n",
    "\n",
    "\n",
    "fig = plt.figure(figsize=(10,5))\n",
    "\n",
    "plt.bar(x_values, y_values, color='blue')\n",
    "plt.xticks(x,x,rotation='vertical')\n",
    "plt.xlabel(\"Year\")\n",
    "plt.ylabel(\"#Oulet\")\n",
    "plt.title(\"Count of Outlets over the years\")\n",
    "xlocs = [i for i in x]\n",
    "for i, v in enumerate(y_values):\n",
    "    plt.text(xlocs[i] - 0.45, v + 20, str(v))\n",
    "plt.show()"
   ]
  },
  {
   "cell_type": "markdown",
   "metadata": {},
   "source": [
    "Observation:\n",
    "    - It is clear that the sales in the year 1998 was low because of the number of outlets running were almost of that compared       to other years.\n",
    "    - It is pretty clear that the average sales and the outlet count has a positive correlation with each other."
   ]
  },
  {
   "cell_type": "markdown",
   "metadata": {},
   "source": [
    "# What are the outlet sizes available over the years?"
   ]
  },
  {
   "cell_type": "code",
   "execution_count": 156,
   "metadata": {},
   "outputs": [],
   "source": [
    "df.dropna(inplace=True) # Most of the values for Outlet_Size were missing"
   ]
  },
  {
   "cell_type": "code",
   "execution_count": 162,
   "metadata": {},
   "outputs": [
    {
     "data": {
      "text/html": [
       "<div>\n",
       "<style scoped>\n",
       "    .dataframe tbody tr th:only-of-type {\n",
       "        vertical-align: middle;\n",
       "    }\n",
       "\n",
       "    .dataframe tbody tr th {\n",
       "        vertical-align: top;\n",
       "    }\n",
       "\n",
       "    .dataframe thead th {\n",
       "        text-align: right;\n",
       "    }\n",
       "</style>\n",
       "<table border=\"1\" class=\"dataframe\">\n",
       "  <thead>\n",
       "    <tr style=\"text-align: right;\">\n",
       "      <th>Outlet_Size</th>\n",
       "      <th>High</th>\n",
       "      <th>Medium</th>\n",
       "      <th>Small</th>\n",
       "    </tr>\n",
       "    <tr>\n",
       "      <th>Outlet_Establishment_Year</th>\n",
       "      <th></th>\n",
       "      <th></th>\n",
       "      <th></th>\n",
       "    </tr>\n",
       "  </thead>\n",
       "  <tbody>\n",
       "    <tr>\n",
       "      <th>1987</th>\n",
       "      <td>932.0</td>\n",
       "      <td>0.0</td>\n",
       "      <td>0.0</td>\n",
       "    </tr>\n",
       "    <tr>\n",
       "      <th>1997</th>\n",
       "      <td>0.0</td>\n",
       "      <td>0.0</td>\n",
       "      <td>930.0</td>\n",
       "    </tr>\n",
       "    <tr>\n",
       "      <th>1999</th>\n",
       "      <td>0.0</td>\n",
       "      <td>930.0</td>\n",
       "      <td>0.0</td>\n",
       "    </tr>\n",
       "    <tr>\n",
       "      <th>2004</th>\n",
       "      <td>0.0</td>\n",
       "      <td>0.0</td>\n",
       "      <td>930.0</td>\n",
       "    </tr>\n",
       "    <tr>\n",
       "      <th>2009</th>\n",
       "      <td>0.0</td>\n",
       "      <td>928.0</td>\n",
       "      <td>0.0</td>\n",
       "    </tr>\n",
       "  </tbody>\n",
       "</table>\n",
       "</div>"
      ],
      "text/plain": [
       "Outlet_Size                 High  Medium  Small\n",
       "Outlet_Establishment_Year                      \n",
       "1987                       932.0     0.0    0.0\n",
       "1997                         0.0     0.0  930.0\n",
       "1999                         0.0   930.0    0.0\n",
       "2004                         0.0     0.0  930.0\n",
       "2009                         0.0   928.0    0.0"
      ]
     },
     "execution_count": 162,
     "metadata": {},
     "output_type": "execute_result"
    }
   ],
   "source": [
    "outlet_yr_df = df.groupby(['Outlet_Establishment_Year','Outlet_Size'])\n",
    "outlet_yr_df.size().unstack().fillna(0)"
   ]
  },
  {
   "cell_type": "markdown",
   "metadata": {},
   "source": [
    "Information about the Outlet_Size for most of the years were missing and with the available data it is seen that no more than one type of Outlet_Size was available in a single year"
   ]
  },
  {
   "cell_type": "markdown",
   "metadata": {},
   "source": [
    "\n",
    "# Do the Location_Type and the Outlet_Size have any relation?"
   ]
  },
  {
   "cell_type": "code",
   "execution_count": 176,
   "metadata": {},
   "outputs": [
    {
     "data": {
      "text/html": [
       "<div>\n",
       "<style scoped>\n",
       "    .dataframe tbody tr th:only-of-type {\n",
       "        vertical-align: middle;\n",
       "    }\n",
       "\n",
       "    .dataframe tbody tr th {\n",
       "        vertical-align: top;\n",
       "    }\n",
       "\n",
       "    .dataframe thead th {\n",
       "        text-align: right;\n",
       "    }\n",
       "</style>\n",
       "<table border=\"1\" class=\"dataframe\">\n",
       "  <thead>\n",
       "    <tr style=\"text-align: right;\">\n",
       "      <th>Outlet_Size</th>\n",
       "      <th>High</th>\n",
       "      <th>Medium</th>\n",
       "      <th>Small</th>\n",
       "    </tr>\n",
       "    <tr>\n",
       "      <th>Outlet_Location_Type</th>\n",
       "      <th></th>\n",
       "      <th></th>\n",
       "      <th></th>\n",
       "    </tr>\n",
       "  </thead>\n",
       "  <tbody>\n",
       "    <tr>\n",
       "      <th>Tier 1</th>\n",
       "      <td>0.0</td>\n",
       "      <td>930.0</td>\n",
       "      <td>930.0</td>\n",
       "    </tr>\n",
       "    <tr>\n",
       "      <th>Tier 2</th>\n",
       "      <td>0.0</td>\n",
       "      <td>0.0</td>\n",
       "      <td>930.0</td>\n",
       "    </tr>\n",
       "    <tr>\n",
       "      <th>Tier 3</th>\n",
       "      <td>932.0</td>\n",
       "      <td>928.0</td>\n",
       "      <td>0.0</td>\n",
       "    </tr>\n",
       "  </tbody>\n",
       "</table>\n",
       "</div>"
      ],
      "text/plain": [
       "Outlet_Size            High  Medium  Small\n",
       "Outlet_Location_Type                      \n",
       "Tier 1                  0.0   930.0  930.0\n",
       "Tier 2                  0.0     0.0  930.0\n",
       "Tier 3                932.0   928.0    0.0"
      ]
     },
     "execution_count": 176,
     "metadata": {},
     "output_type": "execute_result"
    }
   ],
   "source": [
    "loc_outlet_df = df.groupby(['Outlet_Location_Type','Outlet_Size'])\n",
    "loc_outlet_df = loc_outlet_df.size().unstack().fillna(0)\n",
    "loc_outlet_df"
   ]
  },
  {
   "cell_type": "code",
   "execution_count": 227,
   "metadata": {},
   "outputs": [
    {
     "data": {
      "text/plain": [
       "<matplotlib.legend.Legend at 0x2575d7092b0>"
      ]
     },
     "execution_count": 227,
     "metadata": {},
     "output_type": "execute_result"
    },
    {
     "data": {
      "image/png": "[encoded data removed]",
      "text/plain": [
       "<Figure size 432x288 with 1 Axes>"
      ]
     },
     "metadata": {
      "needs_background": "light"
     },
     "output_type": "display_data"
    }
   ],
   "source": [
    "x_label  = list(loc_outlet_df.index)\n",
    "X = np.arange(len(x_label))\n",
    "y_label = list(loc_outlet_df.columns)\n",
    "\n",
    "fig = plt.figure()\n",
    "ax = fig.add_axes([0,0,1,1])\n",
    "\n",
    "ax.set_xticks(X)\n",
    "ax.set_xticklabels(x_label)\n",
    "ax.set_ylabel('#Outlets')\n",
    "ax.set_title('Outlet_Size vs Location_Type')\n",
    "\n",
    "ax.bar(X+0.00, loc_outlet_df.iloc[:,0], color = 'b', width = 0.15)\n",
    "ax.bar(X+0.25, loc_outlet_df.iloc[:,1], color = 'g', width = 0.15)\n",
    "ax.bar(X+0.50, loc_outlet_df.iloc[:,2], color = 'r', width = 0.15)\n",
    "\n",
    "ax.legend(labels=y_label)              "
   ]
  },
  {
   "cell_type": "markdown",
   "metadata": {},
   "source": [
    "There is no much relation between the Location_Type and Outlet_Size.\n",
    "We would pre assume that Tier 1 location will have Outlet_Size of High category, but that is not what the data says.\n",
    "Although the number of stores remain fairly same across the varied outlet size."
   ]
  },
  {
   "cell_type": "markdown",
   "metadata": {},
   "source": [
    "# Do the Outlet_Type vary based on the Outlet_Location_Type?"
   ]
  },
  {
   "cell_type": "code",
   "execution_count": 231,
   "metadata": {},
   "outputs": [
    {
     "data": {
      "text/html": [
       "<div>\n",
       "<style scoped>\n",
       "    .dataframe tbody tr th:only-of-type {\n",
       "        vertical-align: middle;\n",
       "    }\n",
       "\n",
       "    .dataframe tbody tr th {\n",
       "        vertical-align: top;\n",
       "    }\n",
       "\n",
       "    .dataframe thead th {\n",
       "        text-align: right;\n",
       "    }\n",
       "</style>\n",
       "<table border=\"1\" class=\"dataframe\">\n",
       "  <thead>\n",
       "    <tr style=\"text-align: right;\">\n",
       "      <th>Outlet_Type</th>\n",
       "      <th>Grocery Store</th>\n",
       "      <th>Supermarket Type1</th>\n",
       "      <th>Supermarket Type2</th>\n",
       "      <th>Supermarket Type3</th>\n",
       "    </tr>\n",
       "    <tr>\n",
       "      <th>Outlet_Location_Type</th>\n",
       "      <th></th>\n",
       "      <th></th>\n",
       "      <th></th>\n",
       "      <th></th>\n",
       "    </tr>\n",
       "  </thead>\n",
       "  <tbody>\n",
       "    <tr>\n",
       "      <th>Tier 1</th>\n",
       "      <td>528.0</td>\n",
       "      <td>1860.0</td>\n",
       "      <td>0.0</td>\n",
       "      <td>0.0</td>\n",
       "    </tr>\n",
       "    <tr>\n",
       "      <th>Tier 2</th>\n",
       "      <td>0.0</td>\n",
       "      <td>2785.0</td>\n",
       "      <td>0.0</td>\n",
       "      <td>0.0</td>\n",
       "    </tr>\n",
       "    <tr>\n",
       "      <th>Tier 3</th>\n",
       "      <td>555.0</td>\n",
       "      <td>932.0</td>\n",
       "      <td>928.0</td>\n",
       "      <td>935.0</td>\n",
       "    </tr>\n",
       "  </tbody>\n",
       "</table>\n",
       "</div>"
      ],
      "text/plain": [
       "Outlet_Type           Grocery Store  Supermarket Type1  Supermarket Type2  \\\n",
       "Outlet_Location_Type                                                        \n",
       "Tier 1                        528.0             1860.0                0.0   \n",
       "Tier 2                          0.0             2785.0                0.0   \n",
       "Tier 3                        555.0              932.0              928.0   \n",
       "\n",
       "Outlet_Type           Supermarket Type3  \n",
       "Outlet_Location_Type                     \n",
       "Tier 1                              0.0  \n",
       "Tier 2                              0.0  \n",
       "Tier 3                            935.0  "
      ]
     },
     "execution_count": 231,
     "metadata": {},
     "output_type": "execute_result"
    }
   ],
   "source": [
    "loc_type_df = df.groupby(['Outlet_Location_Type','Outlet_Type'])\n",
    "loc_type_df = loc_type_df.size().unstack().fillna(0)\n",
    "loc_type_df"
   ]
  },
  {
   "cell_type": "code",
   "execution_count": 235,
   "metadata": {},
   "outputs": [
    {
     "data": {
      "text/plain": [
       "<matplotlib.legend.Legend at 0x2575dcf1820>"
      ]
     },
     "execution_count": 235,
     "metadata": {},
     "output_type": "execute_result"
    },
    {
     "data": {
      "image/png": "[encoded data removed]",
      "text/plain": [
       "<Figure size 432x288 with 1 Axes>"
      ]
     },
     "metadata": {
      "needs_background": "light"
     },
     "output_type": "display_data"
    }
   ],
   "source": [
    "x_label  = list(loc_type_df.index)\n",
    "X = np.arange(len(x_label))\n",
    "y_label = list(loc_type_df.columns)\n",
    "\n",
    "fig = plt.figure()\n",
    "ax = fig.add_axes([0,0,1,1])\n",
    "\n",
    "ax.set_xticks(X)\n",
    "ax.set_xticklabels(x_label)\n",
    "ax.set_ylabel('#Outlets')\n",
    "ax.set_title('Outlet_Type vs Location_Type')\n",
    "\n",
    "ax.bar(X+0.00, loc_type_df.iloc[:,0], color = 'b', width = 0.15)\n",
    "ax.bar(X+0.15, loc_type_df.iloc[:,1], color = 'g', width = 0.15)\n",
    "ax.bar(X+0.25, loc_type_df.iloc[:,2], color = 'r', width = 0.15)\n",
    "ax.bar(X+0.35, loc_type_df.iloc[:,3], color = 'y', width = 0.15)\n",
    "\n",
    "\n",
    "ax.legend(labels=y_label)  "
   ]
  },
  {
   "cell_type": "markdown",
   "metadata": {},
   "source": [
    "It is very inetresting to see that the Tier 3 locations have access to all type of outlets. All of the different types of outlets are present in equal amount.\n",
    "Tier 2 has only one type of outlet but it is present in large number"
   ]
  },
  {
   "cell_type": "markdown",
   "metadata": {},
   "source": [
    "# Inspecting the fat content in the items available in the outlets"
   ]
  },
  {
   "cell_type": "code",
   "execution_count": 236,
   "metadata": {},
   "outputs": [
    {
     "data": {
      "text/plain": [
       "Low Fat    5089\n",
       "Regular    2889\n",
       "LF          316\n",
       "reg         117\n",
       "low fat     112\n",
       "Name: Item_Fat_Content, dtype: int64"
      ]
     },
     "execution_count": 236,
     "metadata": {},
     "output_type": "execute_result"
    }
   ],
   "source": [
    "df.Item_Fat_Content.value_counts()\n"
   ]
  },
  {
   "cell_type": "code",
   "execution_count": 237,
   "metadata": {},
   "outputs": [],
   "source": [
    "df['Item_Fat_Content'] = df['Item_Fat_Content'].replace(['LF','low fat'],'Low Fat')\n",
    "df['Item_Fat_Content'] = df['Item_Fat_Content'].replace(['reg'],'Regular')"
   ]
  },
  {
   "cell_type": "code",
   "execution_count": 238,
   "metadata": {},
   "outputs": [
    {
     "data": {
      "text/plain": [
       "Low Fat    5517\n",
       "Regular    3006\n",
       "Name: Item_Fat_Content, dtype: int64"
      ]
     },
     "execution_count": 238,
     "metadata": {},
     "output_type": "execute_result"
    }
   ],
   "source": [
    "df.Item_Fat_Content.value_counts()"
   ]
  },
  {
   "cell_type": "code",
   "execution_count": 248,
   "metadata": {},
   "outputs": [
    {
     "data": {
      "text/html": [
       "<div>\n",
       "<style scoped>\n",
       "    .dataframe tbody tr th:only-of-type {\n",
       "        vertical-align: middle;\n",
       "    }\n",
       "\n",
       "    .dataframe tbody tr th {\n",
       "        vertical-align: top;\n",
       "    }\n",
       "\n",
       "    .dataframe thead th {\n",
       "        text-align: right;\n",
       "    }\n",
       "</style>\n",
       "<table border=\"1\" class=\"dataframe\">\n",
       "  <thead>\n",
       "    <tr style=\"text-align: right;\">\n",
       "      <th>Item_Type</th>\n",
       "      <th>Baking Goods</th>\n",
       "      <th>Breads</th>\n",
       "      <th>Breakfast</th>\n",
       "      <th>Canned</th>\n",
       "      <th>Dairy</th>\n",
       "      <th>Frozen Foods</th>\n",
       "      <th>Fruits and Vegetables</th>\n",
       "      <th>Hard Drinks</th>\n",
       "      <th>Meat</th>\n",
       "      <th>Seafood</th>\n",
       "      <th>Snack Foods</th>\n",
       "      <th>Soft Drinks</th>\n",
       "      <th>Starchy Foods</th>\n",
       "    </tr>\n",
       "    <tr>\n",
       "      <th>Item_Fat_Content</th>\n",
       "      <th></th>\n",
       "      <th></th>\n",
       "      <th></th>\n",
       "      <th></th>\n",
       "      <th></th>\n",
       "      <th></th>\n",
       "      <th></th>\n",
       "      <th></th>\n",
       "      <th></th>\n",
       "      <th></th>\n",
       "      <th></th>\n",
       "      <th></th>\n",
       "      <th></th>\n",
       "    </tr>\n",
       "  </thead>\n",
       "  <tbody>\n",
       "    <tr>\n",
       "      <th>Low Fat</th>\n",
       "      <td>329.0</td>\n",
       "      <td>140.0</td>\n",
       "      <td>41.0</td>\n",
       "      <td>341.0</td>\n",
       "      <td>418.0</td>\n",
       "      <td>450.0</td>\n",
       "      <td>630.0</td>\n",
       "      <td>214.0</td>\n",
       "      <td>170.0</td>\n",
       "      <td>37.0</td>\n",
       "      <td>692.0</td>\n",
       "      <td>374.0</td>\n",
       "      <td>82.0</td>\n",
       "    </tr>\n",
       "    <tr>\n",
       "      <th>Regular</th>\n",
       "      <td>319.0</td>\n",
       "      <td>111.0</td>\n",
       "      <td>69.0</td>\n",
       "      <td>308.0</td>\n",
       "      <td>264.0</td>\n",
       "      <td>406.0</td>\n",
       "      <td>602.0</td>\n",
       "      <td>0.0</td>\n",
       "      <td>255.0</td>\n",
       "      <td>27.0</td>\n",
       "      <td>508.0</td>\n",
       "      <td>71.0</td>\n",
       "      <td>66.0</td>\n",
       "    </tr>\n",
       "  </tbody>\n",
       "</table>\n",
       "</div>"
      ],
      "text/plain": [
       "Item_Type         Baking Goods  Breads  Breakfast  Canned  Dairy  \\\n",
       "Item_Fat_Content                                                   \n",
       "Low Fat                  329.0   140.0       41.0   341.0  418.0   \n",
       "Regular                  319.0   111.0       69.0   308.0  264.0   \n",
       "\n",
       "Item_Type         Frozen Foods  Fruits and Vegetables  Hard Drinks   Meat  \\\n",
       "Item_Fat_Content                                                            \n",
       "Low Fat                  450.0                  630.0        214.0  170.0   \n",
       "Regular                  406.0                  602.0          0.0  255.0   \n",
       "\n",
       "Item_Type         Seafood  Snack Foods  Soft Drinks  Starchy Foods  \n",
       "Item_Fat_Content                                                    \n",
       "Low Fat              37.0        692.0        374.0           82.0  \n",
       "Regular              27.0        508.0         71.0           66.0  "
      ]
     },
     "execution_count": 248,
     "metadata": {},
     "output_type": "execute_result"
    }
   ],
   "source": [
    "fat_item_df = df.groupby(['Item_Fat_Content','Item_Type'])\n",
    "fat_item_df = fat_item_df.size().unstack().fillna(0)\n",
    "fat_item_df.drop(columns=['Health and Hygiene','Household','Others'],inplace=True)\n",
    "\n",
    "fat_item_df\n"
   ]
  },
  {
   "cell_type": "code",
   "execution_count": 252,
   "metadata": {},
   "outputs": [
    {
     "data": {
      "image/png": "[encoded data removed]",
      "text/plain": [
       "<Figure size 720x576 with 1 Axes>"
      ]
     },
     "metadata": {
      "needs_background": "light"
     },
     "output_type": "display_data"
    }
   ],
   "source": [
    "labels = list(fat_item_df.columns)\n",
    "low_fat = list(fat_item_df.iloc[0,:])\n",
    "reg_fat = list(fat_item_df.iloc[1,:])\n",
    "width = 0.35\n",
    "\n",
    "fig,ax = plt.subplots(figsize=(10,8))\n",
    "#ax.set_xticks(X)\n",
    "ax.set_xticklabels(labels,rotation=90)\n",
    "ax.bar(labels,low_fat,label='Low Fat',color='g')\n",
    "ax.bar(labels,reg_fat,label='Reg Fat',color='y')\n",
    "\n",
    "ax.set_ylabel('Fat Content')\n",
    "ax.set_title('Fat Content in Item Types',size=23)\n",
    "ax.legend()\n",
    "\n",
    "plt.show()"
   ]
  },
  {
   "cell_type": "code",
   "execution_count": 260,
   "metadata": {},
   "outputs": [
    {
     "data": {
      "text/html": [
       "<div>\n",
       "<style scoped>\n",
       "    .dataframe tbody tr th:only-of-type {\n",
       "        vertical-align: middle;\n",
       "    }\n",
       "\n",
       "    .dataframe tbody tr th {\n",
       "        vertical-align: top;\n",
       "    }\n",
       "\n",
       "    .dataframe thead th {\n",
       "        text-align: right;\n",
       "    }\n",
       "</style>\n",
       "<table border=\"1\" class=\"dataframe\">\n",
       "  <thead>\n",
       "    <tr style=\"text-align: right;\">\n",
       "      <th>Item_Type</th>\n",
       "      <th>Baking Goods</th>\n",
       "      <th>Breads</th>\n",
       "      <th>Breakfast</th>\n",
       "      <th>Canned</th>\n",
       "      <th>Dairy</th>\n",
       "      <th>Frozen Foods</th>\n",
       "      <th>Fruits and Vegetables</th>\n",
       "      <th>Hard Drinks</th>\n",
       "      <th>Health and Hygiene</th>\n",
       "      <th>Household</th>\n",
       "      <th>Meat</th>\n",
       "      <th>Others</th>\n",
       "      <th>Seafood</th>\n",
       "      <th>Snack Foods</th>\n",
       "      <th>Soft Drinks</th>\n",
       "      <th>Starchy Foods</th>\n",
       "    </tr>\n",
       "    <tr>\n",
       "      <th>Outlet_Establishment_Year</th>\n",
       "      <th></th>\n",
       "      <th></th>\n",
       "      <th></th>\n",
       "      <th></th>\n",
       "      <th></th>\n",
       "      <th></th>\n",
       "      <th></th>\n",
       "      <th></th>\n",
       "      <th></th>\n",
       "      <th></th>\n",
       "      <th></th>\n",
       "      <th></th>\n",
       "      <th></th>\n",
       "      <th></th>\n",
       "      <th></th>\n",
       "      <th></th>\n",
       "    </tr>\n",
       "  </thead>\n",
       "  <tbody>\n",
       "    <tr>\n",
       "      <th>1985</th>\n",
       "      <td>112</td>\n",
       "      <td>47</td>\n",
       "      <td>21</td>\n",
       "      <td>110</td>\n",
       "      <td>116</td>\n",
       "      <td>138</td>\n",
       "      <td>213</td>\n",
       "      <td>31</td>\n",
       "      <td>90</td>\n",
       "      <td>151</td>\n",
       "      <td>88</td>\n",
       "      <td>32</td>\n",
       "      <td>13</td>\n",
       "      <td>212</td>\n",
       "      <td>71</td>\n",
       "      <td>18</td>\n",
       "    </tr>\n",
       "    <tr>\n",
       "      <th>1987</th>\n",
       "      <td>73</td>\n",
       "      <td>25</td>\n",
       "      <td>13</td>\n",
       "      <td>65</td>\n",
       "      <td>80</td>\n",
       "      <td>92</td>\n",
       "      <td>142</td>\n",
       "      <td>23</td>\n",
       "      <td>61</td>\n",
       "      <td>103</td>\n",
       "      <td>41</td>\n",
       "      <td>16</td>\n",
       "      <td>5</td>\n",
       "      <td>125</td>\n",
       "      <td>49</td>\n",
       "      <td>19</td>\n",
       "    </tr>\n",
       "    <tr>\n",
       "      <th>1997</th>\n",
       "      <td>76</td>\n",
       "      <td>26</td>\n",
       "      <td>10</td>\n",
       "      <td>72</td>\n",
       "      <td>78</td>\n",
       "      <td>108</td>\n",
       "      <td>126</td>\n",
       "      <td>20</td>\n",
       "      <td>56</td>\n",
       "      <td>103</td>\n",
       "      <td>44</td>\n",
       "      <td>22</td>\n",
       "      <td>6</td>\n",
       "      <td>120</td>\n",
       "      <td>48</td>\n",
       "      <td>15</td>\n",
       "    </tr>\n",
       "    <tr>\n",
       "      <th>1998</th>\n",
       "      <td>42</td>\n",
       "      <td>17</td>\n",
       "      <td>9</td>\n",
       "      <td>35</td>\n",
       "      <td>43</td>\n",
       "      <td>54</td>\n",
       "      <td>79</td>\n",
       "      <td>16</td>\n",
       "      <td>37</td>\n",
       "      <td>67</td>\n",
       "      <td>34</td>\n",
       "      <td>10</td>\n",
       "      <td>4</td>\n",
       "      <td>71</td>\n",
       "      <td>28</td>\n",
       "      <td>9</td>\n",
       "    </tr>\n",
       "    <tr>\n",
       "      <th>1999</th>\n",
       "      <td>66</td>\n",
       "      <td>25</td>\n",
       "      <td>13</td>\n",
       "      <td>67</td>\n",
       "      <td>78</td>\n",
       "      <td>93</td>\n",
       "      <td>138</td>\n",
       "      <td>30</td>\n",
       "      <td>52</td>\n",
       "      <td>95</td>\n",
       "      <td>47</td>\n",
       "      <td>17</td>\n",
       "      <td>7</td>\n",
       "      <td>139</td>\n",
       "      <td>46</td>\n",
       "      <td>17</td>\n",
       "    </tr>\n",
       "    <tr>\n",
       "      <th>2002</th>\n",
       "      <td>70</td>\n",
       "      <td>33</td>\n",
       "      <td>10</td>\n",
       "      <td>74</td>\n",
       "      <td>69</td>\n",
       "      <td>81</td>\n",
       "      <td>143</td>\n",
       "      <td>28</td>\n",
       "      <td>55</td>\n",
       "      <td>99</td>\n",
       "      <td>38</td>\n",
       "      <td>20</td>\n",
       "      <td>9</td>\n",
       "      <td>133</td>\n",
       "      <td>51</td>\n",
       "      <td>16</td>\n",
       "    </tr>\n",
       "    <tr>\n",
       "      <th>2004</th>\n",
       "      <td>68</td>\n",
       "      <td>29</td>\n",
       "      <td>10</td>\n",
       "      <td>79</td>\n",
       "      <td>71</td>\n",
       "      <td>92</td>\n",
       "      <td>129</td>\n",
       "      <td>22</td>\n",
       "      <td>50</td>\n",
       "      <td>102</td>\n",
       "      <td>43</td>\n",
       "      <td>16</td>\n",
       "      <td>8</td>\n",
       "      <td>140</td>\n",
       "      <td>52</td>\n",
       "      <td>19</td>\n",
       "    </tr>\n",
       "    <tr>\n",
       "      <th>2007</th>\n",
       "      <td>73</td>\n",
       "      <td>22</td>\n",
       "      <td>12</td>\n",
       "      <td>69</td>\n",
       "      <td>74</td>\n",
       "      <td>106</td>\n",
       "      <td>127</td>\n",
       "      <td>22</td>\n",
       "      <td>61</td>\n",
       "      <td>95</td>\n",
       "      <td>44</td>\n",
       "      <td>16</td>\n",
       "      <td>5</td>\n",
       "      <td>128</td>\n",
       "      <td>54</td>\n",
       "      <td>18</td>\n",
       "    </tr>\n",
       "    <tr>\n",
       "      <th>2009</th>\n",
       "      <td>68</td>\n",
       "      <td>27</td>\n",
       "      <td>12</td>\n",
       "      <td>78</td>\n",
       "      <td>73</td>\n",
       "      <td>92</td>\n",
       "      <td>135</td>\n",
       "      <td>22</td>\n",
       "      <td>58</td>\n",
       "      <td>95</td>\n",
       "      <td>46</td>\n",
       "      <td>20</td>\n",
       "      <td>7</td>\n",
       "      <td>132</td>\n",
       "      <td>46</td>\n",
       "      <td>17</td>\n",
       "    </tr>\n",
       "  </tbody>\n",
       "</table>\n",
       "</div>"
      ],
      "text/plain": [
       "Item_Type                  Baking Goods  Breads  Breakfast  Canned  Dairy  \\\n",
       "Outlet_Establishment_Year                                                   \n",
       "1985                                112      47         21     110    116   \n",
       "1987                                 73      25         13      65     80   \n",
       "1997                                 76      26         10      72     78   \n",
       "1998                                 42      17          9      35     43   \n",
       "1999                                 66      25         13      67     78   \n",
       "2002                                 70      33         10      74     69   \n",
       "2004                                 68      29         10      79     71   \n",
       "2007                                 73      22         12      69     74   \n",
       "2009                                 68      27         12      78     73   \n",
       "\n",
       "Item_Type                  Frozen Foods  Fruits and Vegetables  Hard Drinks  \\\n",
       "Outlet_Establishment_Year                                                     \n",
       "1985                                138                    213           31   \n",
       "1987                                 92                    142           23   \n",
       "1997                                108                    126           20   \n",
       "1998                                 54                     79           16   \n",
       "1999                                 93                    138           30   \n",
       "2002                                 81                    143           28   \n",
       "2004                                 92                    129           22   \n",
       "2007                                106                    127           22   \n",
       "2009                                 92                    135           22   \n",
       "\n",
       "Item_Type                  Health and Hygiene  Household  Meat  Others  \\\n",
       "Outlet_Establishment_Year                                                \n",
       "1985                                       90        151    88      32   \n",
       "1987                                       61        103    41      16   \n",
       "1997                                       56        103    44      22   \n",
       "1998                                       37         67    34      10   \n",
       "1999                                       52         95    47      17   \n",
       "2002                                       55         99    38      20   \n",
       "2004                                       50        102    43      16   \n",
       "2007                                       61         95    44      16   \n",
       "2009                                       58         95    46      20   \n",
       "\n",
       "Item_Type                  Seafood  Snack Foods  Soft Drinks  Starchy Foods  \n",
       "Outlet_Establishment_Year                                                    \n",
       "1985                            13          212           71             18  \n",
       "1987                             5          125           49             19  \n",
       "1997                             6          120           48             15  \n",
       "1998                             4           71           28              9  \n",
       "1999                             7          139           46             17  \n",
       "2002                             9          133           51             16  \n",
       "2004                             8          140           52             19  \n",
       "2007                             5          128           54             18  \n",
       "2009                             7          132           46             17  "
      ]
     },
     "execution_count": 260,
     "metadata": {},
     "output_type": "execute_result"
    }
   ],
   "source": [
    "\n",
    "item_sales_df = df.groupby(['Outlet_Establishment_Year','Item_Type'])\n",
    "item_sales_df = item_sales_df.size().unstack().fillna(0)\n",
    "item_sales_df"
   ]
  },
  {
   "cell_type": "code",
   "execution_count": 264,
   "metadata": {},
   "outputs": [],
   "source": [
    "l1 = item_sales_df.iloc[:,0]\n",
    "l2 = item_sales_df.iloc[:,1]"
   ]
  },
  {
   "cell_type": "code",
   "execution_count": 275,
   "metadata": {},
   "outputs": [
    {
     "data": {
      "text/plain": [
       "[[112, 73, 76, 42, 66, 70, 68, 73, 68],\n",
       " [47, 25, 26, 17, 25, 33, 29, 22, 27],\n",
       " [21, 13, 10, 9, 13, 10, 10, 12, 12],\n",
       " [110, 65, 72, 35, 67, 74, 79, 69, 78],\n",
       " [116, 80, 78, 43, 78, 69, 71, 74, 73],\n",
       " [138, 92, 108, 54, 93, 81, 92, 106, 92],\n",
       " [213, 142, 126, 79, 138, 143, 129, 127, 135],\n",
       " [31, 23, 20, 16, 30, 28, 22, 22, 22],\n",
       " [90, 61, 56, 37, 52, 55, 50, 61, 58],\n",
       " [151, 103, 103, 67, 95, 99, 102, 95, 95],\n",
       " [88, 41, 44, 34, 47, 38, 43, 44, 46],\n",
       " [32, 16, 22, 10, 17, 20, 16, 16, 20],\n",
       " [13, 5, 6, 4, 7, 9, 8, 5, 7],\n",
       " [212, 125, 120, 71, 139, 133, 140, 128, 132],\n",
       " [71, 49, 48, 28, 46, 51, 52, 54, 46],\n",
       " [18, 19, 15, 9, 17, 16, 19, 18, 17]]"
      ]
     },
     "execution_count": 275,
     "metadata": {},
     "output_type": "execute_result"
    }
   ],
   "source": [
    "column = list(item_sales_df.columns)\n",
    "columns = np.arange(len(item_sales_df.columns))\n",
    "collection=[]\n",
    "for i in columns:\n",
    "    #i = list(item_sales_df.iloc[:,i])\n",
    "    collection.append(list(item_sales_df.iloc[:,i]))\n",
    "    \n",
    "collection"
   ]
  },
  {
   "cell_type": "code",
   "execution_count": 277,
   "metadata": {},
   "outputs": [
    {
     "data": {
      "image/png": "[encoded data removed]",
      "text/plain": [
       "<Figure size 720x720 with 1 Axes>"
      ]
     },
     "metadata": {
      "needs_background": "light"
     },
     "output_type": "display_data"
    }
   ],
   "source": [
    "fig = plt.figure(figsize=(10,10))\n",
    "ax = fig.gca()\n",
    "violinplot = ax.violinplot(collection,columns)\n",
    "ax.legend(column)\n",
    "plt.show()"
   ]
  },
  {
   "cell_type": "code",
   "execution_count": null,
   "metadata": {},
   "outputs": [],
   "source": []
  }
 ],
 "metadata": {
  "kernelspec": {
   "display_name": "Python 3",
   "language": "python",
   "name": "python3"
  },
  "language_info": {
   "codemirror_mode": {
    "name": "ipython",
    "version": 3
   },
   "file_extension": ".py",
   "mimetype": "text/x-python",
   "name": "python",
   "nbconvert_exporter": "python",
   "pygments_lexer": "ipython3",
   "version": "3.8.3"
  }
 },
 "nbformat": 4,
 "nbformat_minor": 4
}
